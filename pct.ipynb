{
 "cells": [
  {
   "cell_type": "code",
   "execution_count": 13,
   "id": "f80fa9ed-65c1-46f7-8e1d-dc3b102e6671",
   "metadata": {},
   "outputs": [
    {
     "data": {
      "text/html": [
       "<div>\n",
       "<style scoped>\n",
       "    .dataframe tbody tr th:only-of-type {\n",
       "        vertical-align: middle;\n",
       "    }\n",
       "\n",
       "    .dataframe tbody tr th {\n",
       "        vertical-align: top;\n",
       "    }\n",
       "\n",
       "    .dataframe thead th {\n",
       "        text-align: right;\n",
       "    }\n",
       "</style>\n",
       "<table border=\"1\" class=\"dataframe\">\n",
       "  <thead>\n",
       "    <tr style=\"text-align: right;\">\n",
       "      <th></th>\n",
       "      <th>Unnamed: 0</th>\n",
       "      <th>track_id</th>\n",
       "      <th>artists</th>\n",
       "      <th>album_name</th>\n",
       "      <th>track_name</th>\n",
       "      <th>popularity</th>\n",
       "      <th>duration_ms</th>\n",
       "      <th>explicit</th>\n",
       "      <th>danceability</th>\n",
       "      <th>energy</th>\n",
       "      <th>...</th>\n",
       "      <th>loudness</th>\n",
       "      <th>mode</th>\n",
       "      <th>speechiness</th>\n",
       "      <th>acousticness</th>\n",
       "      <th>instrumentalness</th>\n",
       "      <th>liveness</th>\n",
       "      <th>valence</th>\n",
       "      <th>tempo</th>\n",
       "      <th>time_signature</th>\n",
       "      <th>track_genre</th>\n",
       "    </tr>\n",
       "  </thead>\n",
       "  <tbody>\n",
       "    <tr>\n",
       "      <th>0</th>\n",
       "      <td>0</td>\n",
       "      <td>5SuOikwiRyPMVoIQDJUgSV</td>\n",
       "      <td>Gen Hoshino</td>\n",
       "      <td>Comedy</td>\n",
       "      <td>Comedy</td>\n",
       "      <td>73</td>\n",
       "      <td>230666</td>\n",
       "      <td>False</td>\n",
       "      <td>0.676</td>\n",
       "      <td>0.4610</td>\n",
       "      <td>...</td>\n",
       "      <td>-6.746</td>\n",
       "      <td>0</td>\n",
       "      <td>0.1430</td>\n",
       "      <td>0.0322</td>\n",
       "      <td>0.000001</td>\n",
       "      <td>0.3580</td>\n",
       "      <td>0.715</td>\n",
       "      <td>87.917</td>\n",
       "      <td>4</td>\n",
       "      <td>acoustic</td>\n",
       "    </tr>\n",
       "    <tr>\n",
       "      <th>1</th>\n",
       "      <td>1</td>\n",
       "      <td>4qPNDBW1i3p13qLCt0Ki3A</td>\n",
       "      <td>Ben Woodward</td>\n",
       "      <td>Ghost (Acoustic)</td>\n",
       "      <td>Ghost - Acoustic</td>\n",
       "      <td>55</td>\n",
       "      <td>149610</td>\n",
       "      <td>False</td>\n",
       "      <td>0.420</td>\n",
       "      <td>0.1660</td>\n",
       "      <td>...</td>\n",
       "      <td>-17.235</td>\n",
       "      <td>1</td>\n",
       "      <td>0.0763</td>\n",
       "      <td>0.9240</td>\n",
       "      <td>0.000006</td>\n",
       "      <td>0.1010</td>\n",
       "      <td>0.267</td>\n",
       "      <td>77.489</td>\n",
       "      <td>4</td>\n",
       "      <td>acoustic</td>\n",
       "    </tr>\n",
       "    <tr>\n",
       "      <th>2</th>\n",
       "      <td>2</td>\n",
       "      <td>1iJBSr7s7jYXzM8EGcbK5b</td>\n",
       "      <td>Ingrid Michaelson;ZAYN</td>\n",
       "      <td>To Begin Again</td>\n",
       "      <td>To Begin Again</td>\n",
       "      <td>57</td>\n",
       "      <td>210826</td>\n",
       "      <td>False</td>\n",
       "      <td>0.438</td>\n",
       "      <td>0.3590</td>\n",
       "      <td>...</td>\n",
       "      <td>-9.734</td>\n",
       "      <td>1</td>\n",
       "      <td>0.0557</td>\n",
       "      <td>0.2100</td>\n",
       "      <td>0.000000</td>\n",
       "      <td>0.1170</td>\n",
       "      <td>0.120</td>\n",
       "      <td>76.332</td>\n",
       "      <td>4</td>\n",
       "      <td>acoustic</td>\n",
       "    </tr>\n",
       "    <tr>\n",
       "      <th>3</th>\n",
       "      <td>3</td>\n",
       "      <td>6lfxq3CG4xtTiEg7opyCyx</td>\n",
       "      <td>Kina Grannis</td>\n",
       "      <td>Crazy Rich Asians (Original Motion Picture Sou...</td>\n",
       "      <td>Can't Help Falling In Love</td>\n",
       "      <td>71</td>\n",
       "      <td>201933</td>\n",
       "      <td>False</td>\n",
       "      <td>0.266</td>\n",
       "      <td>0.0596</td>\n",
       "      <td>...</td>\n",
       "      <td>-18.515</td>\n",
       "      <td>1</td>\n",
       "      <td>0.0363</td>\n",
       "      <td>0.9050</td>\n",
       "      <td>0.000071</td>\n",
       "      <td>0.1320</td>\n",
       "      <td>0.143</td>\n",
       "      <td>181.740</td>\n",
       "      <td>3</td>\n",
       "      <td>acoustic</td>\n",
       "    </tr>\n",
       "    <tr>\n",
       "      <th>4</th>\n",
       "      <td>4</td>\n",
       "      <td>5vjLSffimiIP26QG5WcN2K</td>\n",
       "      <td>Chord Overstreet</td>\n",
       "      <td>Hold On</td>\n",
       "      <td>Hold On</td>\n",
       "      <td>82</td>\n",
       "      <td>198853</td>\n",
       "      <td>False</td>\n",
       "      <td>0.618</td>\n",
       "      <td>0.4430</td>\n",
       "      <td>...</td>\n",
       "      <td>-9.681</td>\n",
       "      <td>1</td>\n",
       "      <td>0.0526</td>\n",
       "      <td>0.4690</td>\n",
       "      <td>0.000000</td>\n",
       "      <td>0.0829</td>\n",
       "      <td>0.167</td>\n",
       "      <td>119.949</td>\n",
       "      <td>4</td>\n",
       "      <td>acoustic</td>\n",
       "    </tr>\n",
       "  </tbody>\n",
       "</table>\n",
       "<p>5 rows × 21 columns</p>\n",
       "</div>"
      ],
      "text/plain": [
       "   Unnamed: 0                track_id                 artists  \\\n",
       "0           0  5SuOikwiRyPMVoIQDJUgSV             Gen Hoshino   \n",
       "1           1  4qPNDBW1i3p13qLCt0Ki3A            Ben Woodward   \n",
       "2           2  1iJBSr7s7jYXzM8EGcbK5b  Ingrid Michaelson;ZAYN   \n",
       "3           3  6lfxq3CG4xtTiEg7opyCyx            Kina Grannis   \n",
       "4           4  5vjLSffimiIP26QG5WcN2K        Chord Overstreet   \n",
       "\n",
       "                                          album_name  \\\n",
       "0                                             Comedy   \n",
       "1                                   Ghost (Acoustic)   \n",
       "2                                     To Begin Again   \n",
       "3  Crazy Rich Asians (Original Motion Picture Sou...   \n",
       "4                                            Hold On   \n",
       "\n",
       "                   track_name  popularity  duration_ms  explicit  \\\n",
       "0                      Comedy          73       230666     False   \n",
       "1            Ghost - Acoustic          55       149610     False   \n",
       "2              To Begin Again          57       210826     False   \n",
       "3  Can't Help Falling In Love          71       201933     False   \n",
       "4                     Hold On          82       198853     False   \n",
       "\n",
       "   danceability  energy  ...  loudness  mode  speechiness  acousticness  \\\n",
       "0         0.676  0.4610  ...    -6.746     0       0.1430        0.0322   \n",
       "1         0.420  0.1660  ...   -17.235     1       0.0763        0.9240   \n",
       "2         0.438  0.3590  ...    -9.734     1       0.0557        0.2100   \n",
       "3         0.266  0.0596  ...   -18.515     1       0.0363        0.9050   \n",
       "4         0.618  0.4430  ...    -9.681     1       0.0526        0.4690   \n",
       "\n",
       "   instrumentalness  liveness  valence    tempo  time_signature  track_genre  \n",
       "0          0.000001    0.3580    0.715   87.917               4     acoustic  \n",
       "1          0.000006    0.1010    0.267   77.489               4     acoustic  \n",
       "2          0.000000    0.1170    0.120   76.332               4     acoustic  \n",
       "3          0.000071    0.1320    0.143  181.740               3     acoustic  \n",
       "4          0.000000    0.0829    0.167  119.949               4     acoustic  \n",
       "\n",
       "[5 rows x 21 columns]"
      ]
     },
     "execution_count": 13,
     "metadata": {},
     "output_type": "execute_result"
    }
   ],
   "source": [
    "import pandas as pd\n",
    "from IPython.display import display\n",
    "import numpy as np\n",
    "\n",
    "spi = pd.read_csv('./dataset/dataset.csv')\n",
    "spi.head()"
   ]
  },
  {
   "cell_type": "code",
   "execution_count": 51,
   "id": "7bbd5dee-5503-4959-95d3-b8c2f83f8927",
   "metadata": {},
   "outputs": [
    {
     "name": "stdout",
     "output_type": "stream",
     "text": [
      "Unnamed: 0            int64\n",
      "popularity            int64\n",
      "duration_ms           int64\n",
      "danceability        float64\n",
      "energy              float64\n",
      "key                   int64\n",
      "loudness            float64\n",
      "mode                  int64\n",
      "speechiness         float64\n",
      "acousticness        float64\n",
      "instrumentalness    float64\n",
      "liveness            float64\n",
      "valence             float64\n",
      "tempo               float64\n",
      "time_signature        int64\n",
      "dtype: object\n"
     ]
    }
   ],
   "source": [
    "spf = spi.select_dtypes(include=['int64','float64'])\n",
    "dtrain = spf.sample(frac=0.9, random_state=0)\n",
    "dvalid = spf.drop(dtrain.index)\n",
    "print(dtrain.dtypes)\n",
    "\n",
    "#display(dtrain.head(4))"
   ]
  },
  {
   "cell_type": "code",
   "execution_count": 52,
   "id": "bfc828c1-6962-45ad-a1fd-a93626025111",
   "metadata": {},
   "outputs": [
    {
     "name": "stdout",
     "output_type": "stream",
     "text": [
      "(102600, 14)\n"
     ]
    }
   ],
   "source": [
    "max_ = dtrain.max(axis=0)\n",
    "min_ = dtrain.min(axis=0)\n",
    "dtrain = (dtrain - min_ ) / (max_ - min_)\n",
    "dvalid = (dvalid - min_) / (max_ - min_)\n",
    "X_train = dtrain.drop('Unnamed: 0', axis=1)\n",
    "X_valid = dvalid.drop('Unnamed: 0', axis=1)\n",
    "y_train = dtrain['Unnamed: 0']\n",
    "y_valid = dvalid['Unnamed: 0']\n",
    "\n",
    "print(X_train.shape)"
   ]
  },
  {
   "cell_type": "code",
   "execution_count": 53,
   "id": "9e8e47ad-0642-4e7b-80eb-53fce9eb4c2d",
   "metadata": {},
   "outputs": [],
   "source": [
    "from tensorflow import keras\n",
    "from tensorflow.keras import layers\n",
    "\n",
    "model = keras.Sequential([\n",
    "    layers.Dense(512, activation='relu', input_shape=[14]),\n",
    "    layers.Dense(512, activation='relu'),\n",
    "    layers.Dense(512, activation='relu'),\n",
    "    layers.Dense(1),\n",
    "])\n"
   ]
  },
  {
   "cell_type": "code",
   "execution_count": 54,
   "id": "a6d7d546-577b-4f32-88b2-b2789b4c77e1",
   "metadata": {},
   "outputs": [],
   "source": [
    "model.compile(\n",
    "    optimizer='adam',\n",
    "    loss='mae',\n",
    ")\n"
   ]
  },
  {
   "cell_type": "code",
   "execution_count": 55,
   "id": "53079d9a-ec57-44fa-8e17-18b646937d78",
   "metadata": {},
   "outputs": [
    {
     "name": "stdout",
     "output_type": "stream",
     "text": [
      "Epoch 1/20\n",
      "201/201 [==============================] - 5s 21ms/step - loss: 0.2417 - val_loss: 0.2380\n",
      "Epoch 2/20\n",
      "201/201 [==============================] - 6s 30ms/step - loss: 0.2330 - val_loss: 0.2341\n",
      "Epoch 3/20\n",
      "201/201 [==============================] - 5s 24ms/step - loss: 0.2304 - val_loss: 0.2325\n",
      "Epoch 4/20\n",
      "201/201 [==============================] - 6s 29ms/step - loss: 0.2276 - val_loss: 0.2301\n",
      "Epoch 5/20\n",
      "201/201 [==============================] - 6s 31ms/step - loss: 0.2255 - val_loss: 0.2271\n",
      "Epoch 6/20\n",
      "201/201 [==============================] - 6s 29ms/step - loss: 0.2236 - val_loss: 0.2254\n",
      "Epoch 7/20\n",
      "201/201 [==============================] - 5s 26ms/step - loss: 0.2218 - val_loss: 0.2269\n",
      "Epoch 8/20\n",
      "201/201 [==============================] - 6s 27ms/step - loss: 0.2209 - val_loss: 0.2231\n",
      "Epoch 9/20\n",
      "201/201 [==============================] - 6s 28ms/step - loss: 0.2191 - val_loss: 0.2234\n",
      "Epoch 10/20\n",
      "201/201 [==============================] - 5s 27ms/step - loss: 0.2179 - val_loss: 0.2224\n",
      "Epoch 11/20\n",
      "201/201 [==============================] - 5s 26ms/step - loss: 0.2166 - val_loss: 0.2219\n",
      "Epoch 12/20\n",
      "201/201 [==============================] - 6s 29ms/step - loss: 0.2152 - val_loss: 0.2190\n",
      "Epoch 13/20\n",
      "201/201 [==============================] - 6s 31ms/step - loss: 0.2145 - val_loss: 0.2191\n",
      "Epoch 14/20\n",
      "201/201 [==============================] - 5s 27ms/step - loss: 0.2132 - val_loss: 0.2195\n",
      "Epoch 15/20\n",
      "201/201 [==============================] - 6s 29ms/step - loss: 0.2123 - val_loss: 0.2186\n",
      "Epoch 16/20\n",
      "201/201 [==============================] - 6s 28ms/step - loss: 0.2114 - val_loss: 0.2180\n",
      "Epoch 17/20\n",
      "201/201 [==============================] - 6s 28ms/step - loss: 0.2108 - val_loss: 0.2179\n",
      "Epoch 18/20\n",
      "201/201 [==============================] - 5s 26ms/step - loss: 0.2090 - val_loss: 0.2163\n",
      "Epoch 19/20\n",
      "201/201 [==============================] - 5s 26ms/step - loss: 0.2081 - val_loss: 0.2157\n",
      "Epoch 20/20\n",
      "201/201 [==============================] - 6s 28ms/step - loss: 0.2071 - val_loss: 0.2147\n"
     ]
    }
   ],
   "source": [
    "history = model.fit(\n",
    "    X_train, y_train,\n",
    "    validation_data=(X_valid, y_valid),\n",
    "    batch_size=512,\n",
    "    epochs=20,\n",
    ")"
   ]
  },
  {
   "cell_type": "code",
   "execution_count": 56,
   "id": "d8bd8ef3-7207-43c6-80b4-2dba315a34bd",
   "metadata": {},
   "outputs": [
    {
     "data": {
      "image/png": "[encoded data removed]",
      "text/plain": [
       "<Figure size 640x480 with 1 Axes>"
      ]
     },
     "metadata": {},
     "output_type": "display_data"
    }
   ],
   "source": [
    "import pandas as pd\n",
    "\n",
    "# convert the training history to a dataframe\n",
    "history_df = pd.DataFrame(history.history)\n",
    "# use Pandas native plot method\n",
    "history_df['loss'].plot();\n"
   ]
  },
  {
   "cell_type": "code",
   "execution_count": 57,
   "id": "0d3ffaf7-194e-4f49-9f6f-209b79ba6a11",
   "metadata": {},
   "outputs": [
    {
     "data": {
      "text/plain": [
       "<Axes: >"
      ]
     },
     "execution_count": 57,
     "metadata": {},
     "output_type": "execute_result"
    },
    {
     "data": {
      "image/png": "[encoded data removed]",
      "text/plain": [
       "<Figure size 640x480 with 1 Axes>"
      ]
     },
     "metadata": {},
     "output_type": "display_data"
    }
   ],
   "source": [
    "history_df['val_loss'].plot()"
   ]
  },
  {
   "cell_type": "code",
   "execution_count": 58,
   "id": "83f6b475-20a0-4212-a7db-8a35d9478d39",
   "metadata": {},
   "outputs": [
    {
     "name": "stdout",
     "output_type": "stream",
     "text": [
      "Existing dir deleted\n",
      "data created\n"
     ]
    }
   ],
   "source": [
    "# Save the model to disk\n",
    "import os\n",
    "import sys\n",
    "import shutil\n",
    "\n",
    "save_dir = 'trainedmodels'\n",
    "if os.path.exists(save_dir):\n",
    "    shutil.rmtree(save_dir)\n",
    "    print('Existing dir deleted')\n",
    "    os.makedirs(save_dir)\n",
    "else:\n",
    "    pass\n",
    "    \n",
    "model.save(os.path.join(save_dir,'highqualitymodel.keras'))\n",
    "print(\"data created\")\n",
    "\n",
    "\n",
    "# Later, load the model for deployment\n",
    "#loaded_model = keras.models.load_model('path_to_saved_model')\n"
   ]
  },
  {
   "cell_type": "code",
   "execution_count": 59,
   "id": "8c1aef7d-ef83-4401-916a-eb7a8ddc40e1",
   "metadata": {},
   "outputs": [
    {
     "name": "stdout",
     "output_type": "stream",
     "text": [
      "Epoch 1/10\n",
      "401/401 [==============================] - 5s 14ms/step - loss: 0.2107 - val_loss: 0.2206\n",
      "Epoch 2/10\n",
      "401/401 [==============================] - 6s 14ms/step - loss: 0.2096 - val_loss: 0.2162\n",
      "Epoch 3/10\n",
      "401/401 [==============================] - 6s 15ms/step - loss: 0.2073 - val_loss: 0.2152\n",
      "Epoch 4/10\n",
      "401/401 [==============================] - 6s 16ms/step - loss: 0.2063 - val_loss: 0.2140\n",
      "Epoch 5/10\n",
      "401/401 [==============================] - 6s 16ms/step - loss: 0.2054 - val_loss: 0.2147\n",
      "Epoch 6/10\n",
      "401/401 [==============================] - 7s 17ms/step - loss: 0.2040 - val_loss: 0.2140\n",
      "Epoch 7/10\n",
      "401/401 [==============================] - 7s 17ms/step - loss: 0.2029 - val_loss: 0.2130\n",
      "Epoch 8/10\n",
      "401/401 [==============================] - 7s 16ms/step - loss: 0.2020 - val_loss: 0.2128\n",
      "Epoch 9/10\n",
      "401/401 [==============================] - 7s 16ms/step - loss: 0.2012 - val_loss: 0.2132\n",
      "Epoch 10/10\n",
      "401/401 [==============================] - 7s 16ms/step - loss: 0.1997 - val_loss: 0.2133\n"
     ]
    }
   ],
   "source": [
    "history = model.fit(\n",
    "    X_train, y_train,\n",
    "    validation_data=(X_valid, y_valid),\n",
    "    batch_size=256,\n",
    "    epochs=10,\n",
    ")"
   ]
  },
  {
   "cell_type": "code",
   "execution_count": 60,
   "id": "028454c4-1956-48df-9137-83657c17e5a3",
   "metadata": {},
   "outputs": [
    {
     "data": {
      "image/png": "[encoded data removed]",
      "text/plain": [
       "<Figure size 640x480 with 1 Axes>"
      ]
     },
     "metadata": {},
     "output_type": "display_data"
    }
   ],
   "source": [
    "import pandas as pd\n",
    "\n",
    "# convert the training history to a dataframe\n",
    "history_df = pd.DataFrame(history.history)\n",
    "# use Pandas native plot method\n",
    "history_df['loss'].plot();\n"
   ]
  },
  {
   "cell_type": "code",
   "execution_count": 61,
   "id": "a7a76805-e85a-477f-a544-a6a006e1a5d6",
   "metadata": {},
   "outputs": [
    {
     "data": {
      "text/plain": [
       "<Axes: >"
      ]
     },
     "execution_count": 61,
     "metadata": {},
     "output_type": "execute_result"
    },
    {
     "data": {
      "image/png": "[encoded data removed]",
      "text/plain": [
       "<Figure size 640x480 with 1 Axes>"
      ]
     },
     "metadata": {},
     "output_type": "display_data"
    }
   ],
   "source": [
    "history_df['val_loss'].plot()"
   ]
  },
  {
   "cell_type": "code",
   "execution_count": 62,
   "id": "cae9670c-1136-4941-a2f6-8ee1035c5532",
   "metadata": {},
   "outputs": [
    {
     "name": "stdout",
     "output_type": "stream",
     "text": [
      "data created\n"
     ]
    }
   ],
   "source": [
    "# Save the model to disk\n",
    "import os\n",
    "import sys\n",
    "import shutil\n",
    "\n",
    "save_dir = 'trainedmodels'\n",
    "#if os.path.exists(save_dir):\n",
    " #   shutil.rmtree(save_dir)\n",
    "  #  print('Existing dir deleted')\n",
    "    #os.makedirs(save_dir)\n",
    "#else:\n",
    " #   pass\n",
    "    \n",
    "model.save(os.path.join(save_dir,'lowqualitymodel.keras'))\n",
    "print(\"data created\")\n",
    "\n",
    "\n",
    "# Later, load the model for deployment\n",
    "#loaded_model = keras.models.load_model('path_to_saved_model')\n"
   ]
  }
 ],
 "metadata": {
  "kernelspec": {
   "display_name": "Python 3 (ipykernel)",
   "language": "python",
   "name": "python3"
  },
  "language_info": {
   "codemirror_mode": {
    "name": "ipython",
    "version": 3
   },
   "file_extension": ".py",
   "mimetype": "text/x-python",
   "name": "python",
   "nbconvert_exporter": "python",
   "pygments_lexer": "ipython3",
   "version": "3.10.6"
  }
 },
 "nbformat": 4,
 "nbformat_minor": 5
}
