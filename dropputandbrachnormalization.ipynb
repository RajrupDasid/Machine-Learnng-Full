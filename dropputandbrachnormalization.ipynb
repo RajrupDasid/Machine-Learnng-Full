{
 "cells": [
  {
   "cell_type": "markdown",
   "id": "8118eb04-8f04-4474-8b6c-a63e0c915ad7",
   "metadata": {},
   "source": [
    "# Introduction"
   ]
  },
  {
   "cell_type": "markdown",
   "id": "94f2e60c-40c4-4973-9cec-4fd453e1da57",
   "metadata": {},
   "source": [
    "There's more to the world of deep learning than just dense layers. There are dozens of kinds of layers you might add to a model. (Try browsing through the Keras docs for a sample!) Some are like dense layers and define connections between neurons, and others can do preprocessing or transformations of other sorts."
   ]
  },
  {
   "cell_type": "markdown",
   "id": "1571fee6-af65-49df-90eb-91bc6a09a9fc",
   "metadata": {},
   "source": [
    "In this lesson, we'll learn about a two kinds of special layers, not containing any neurons themselves, but that add some functionality that can sometimes benefit a model in various ways. Both are commonly used in modern architectures."
   ]
  },
  {
   "cell_type": "markdown",
   "id": "849eb917-84f2-481a-97aa-d1bbc7a41b82",
   "metadata": {},
   "source": [
    "# Dropout"
   ]
  },
  {
   "cell_type": "markdown",
   "id": "08836c31-e647-488b-ab0a-c0a2026fe1e8",
   "metadata": {},
   "source": [
    "The first of these is the \"dropout layer\", which can help correct overfitting.\n",
    "\n",
    "In the last lesson we talked about how overfitting is caused by the network learning spurious patterns in the training data. To recognize these spurious patterns a network will often rely on very a specific combinations of weight, a kind of \"conspiracy\" of weights. Being so specific, they tend to be fragile: remove one and the conspiracy falls apart.\n",
    "\n",
    "This is the idea behind dropout. To break up these conspiracies, we randomly drop out some fraction of a layer's input units every step of training, making it much harder for the network to learn those spurious patterns in the training data. Instead, it has to search for broad, general patterns, whose weight patterns tend to be more robust.\n",
    "An animation of a network cycling through various random dropout configurations."
   ]
  },
  {
   "cell_type": "markdown",
   "id": "dc096fc5-69df-4893-8e66-9d5f8b8617ac",
   "metadata": {},
   "source": [
    "<img src=\"./refimages/dbn.gif\">\n",
    "\n",
    "\n",
    "##### Here, 50% dropout has been added between the two hidden layers."
   ]
  },
  {
   "cell_type": "markdown",
   "id": "b18ea728-8158-427c-b2e8-72452b8a14c0",
   "metadata": {},
   "source": [
    "You could also think about dropout as creating a kind of ensemble of networks. The predictions will no longer be made by one big network, but instead by a committee of smaller networks. Individuals in the committee tend to make different kinds of mistakes, but be right at the same time, making the committee as a whole better than any individual. (If you're familiar with random forests as an ensemble of decision trees, it's the same idea.)"
   ]
  },
  {
   "cell_type": "markdown",
   "id": "2410fe71-2a67-4133-ba0e-ffd923e3558f",
   "metadata": {},
   "source": [
    "### Adding Dropout¶"
   ]
  },
  {
   "cell_type": "markdown",
   "id": "73193237-2105-4041-9064-09a2d81f0f55",
   "metadata": {},
   "source": [
    "In Keras, the dropout rate argument rate defines what percentage of the input units to shut off. Put the Dropout layer just before the layer you want the dropout applied to:\n",
    "\n",
    "```\n",
    "keras.Sequential([\n",
    "    # ...\n",
    "    layers.Dropout(rate=0.3), # apply 30% dropout to the next layer\n",
    "    layers.Dense(16),\n",
    "    # ...\n",
    "])\n",
    "```"
   ]
  },
  {
   "cell_type": "markdown",
   "id": "08cd3b90-0bc3-4290-9f9f-1b943f548706",
   "metadata": {},
   "source": [
    "# Batch Normalization¶"
   ]
  },
  {
   "cell_type": "markdown",
   "id": "f6d44d17-612f-416f-9aff-67e0d8bdf78f",
   "metadata": {},
   "source": [
    "The next special layer we'll look at performs \"batch normalization\" (or \"batchnorm\"), which can help correct training that is slow or unstable.\n",
    "\n",
    "With neural networks, it's generally a good idea to put all of your data on a common scale, perhaps with something like scikit-learn's StandardScaler or MinMaxScaler. The reason is that SGD will shift the network weights in proportion to how large an activation the data produces. Features that tend to produce activations of very different sizes can make for unstable training behavior.\n",
    "\n",
    "Now, if it's good to normalize the data before it goes into the network, maybe also normalizing inside the network would be better! In fact, we have a special kind of layer that can do this, the batch normalization layer. A batch normalization layer looks at each batch as it comes in, first normalizing the batch with its own mean and standard deviation, and then also putting the data on a new scale with two trainable rescaling parameters. Batchnorm, in effect, performs a kind of coordinated rescaling of its inputs.\n",
    "\n",
    "Most often, batchnorm is added as an aid to the optimization process (though it can sometimes also help prediction performance). Models with batchnorm tend to need fewer epochs to complete training. Moreover, batchnorm can also fix various problems that can cause the training to get \"stuck\". Consider adding batch normalization to your models, especially if you're having trouble during training."
   ]
  },
  {
   "cell_type": "markdown",
   "id": "b8e11cc4-fc11-40eb-be8a-3ba499b10916",
   "metadata": {},
   "source": [
    "### Adding Batch Normalization¶"
   ]
  },
  {
   "cell_type": "markdown",
   "id": "99dc2777-b386-40de-b5c8-d20fa8808693",
   "metadata": {},
   "source": [
    "it seems that batch normalization can be used at almost any point in a network. You can put it after a layer...\n",
    "```\n",
    "layers.Dense(16, activation='relu'),\n",
    "layers.BatchNormalization(),\n",
    "\n",
    "... or between a layer and its activation function:\n",
    "\n",
    "layers.Dense(16),\n",
    "layers.BatchNormalization(),\n",
    "layers.Activation('relu'),\n",
    "```\n",
    "And if you add it as the first layer of your network it can act as a kind of adaptive preprocessor, standing in for something like Sci-Kit Learn's StandardScaler"
   ]
  },
  {
   "cell_type": "markdown",
   "id": "8fd462d8-a45c-4d00-99ce-c0c21a3454de",
   "metadata": {},
   "source": [
    "# Example - Using Dropout and Batch Normalization¶"
   ]
  },
  {
   "cell_type": "markdown",
   "id": "293c120d-87f4-42b1-aab5-e7fce6f19ba7",
   "metadata": {},
   "source": [
    "Let's continue developing the Red Wine model. Now we'll increase the capacity even more, but add dropout to control overfitting and batch normalization to speed up optimization. This time, we'll also leave off standardizing the data, to demonstrate how batch normalization can stabalize the training."
   ]
  },
  {
   "cell_type": "code",
   "execution_count": 1,
   "id": "d3dee5d5-2c90-4804-84b0-5dfd214e350f",
   "metadata": {},
   "outputs": [
    {
     "name": "stderr",
     "output_type": "stream",
     "text": [
      "/tmp/ipykernel_18427/3244253856.py:4: MatplotlibDeprecationWarning: The seaborn styles shipped by Matplotlib are deprecated since 3.6, as they no longer correspond to the styles shipped by seaborn. However, they will remain available as 'seaborn-v0_8-<style>'. Alternatively, directly use the seaborn API instead.\n",
      "  plt.style.use('seaborn-whitegrid')\n"
     ]
    }
   ],
   "source": [
    "# Setup plotting\n",
    "import matplotlib.pyplot as plt\n",
    "\n",
    "plt.style.use('seaborn-whitegrid')\n",
    "# Set Matplotlib defaults\n",
    "plt.rc('figure', autolayout=True)\n",
    "plt.rc('axes', labelweight='bold', labelsize='large',\n",
    "       titleweight='bold', titlesize=18, titlepad=10)\n",
    "\n",
    "\n",
    "import pandas as pd\n",
    "red_wine = pd.read_csv('./dataset/red-wine.csv')\n",
    "\n",
    "# Create training and validation splits\n",
    "df_train = red_wine.sample(frac=0.7, random_state=0)\n",
    "df_valid = red_wine.drop(df_train.index)\n",
    "\n",
    "# Split features and target\n",
    "X_train = df_train.drop('quality', axis=1)\n",
    "X_valid = df_valid.drop('quality', axis=1)\n",
    "y_train = df_train['quality']\n",
    "y_valid = df_valid['quality']\n",
    "\n"
   ]
  },
  {
   "cell_type": "markdown",
   "id": "c4b57bce-3cc4-4053-8ae0-1b578dd9a155",
   "metadata": {},
   "source": [
    "\n",
    "\n",
    "When adding dropout, you may need to increase the number of units in your Dense layers.\n"
   ]
  },
  {
   "cell_type": "code",
   "execution_count": 7,
   "id": "577c91b5-caab-4a2c-bf55-9bdb164ef73e",
   "metadata": {},
   "outputs": [],
   "source": [
    "from tensorflow import keras\n",
    "from tensorflow.keras import layers\n",
    "\n",
    "model = keras.Sequential([\n",
    "    layers.Dense(1024, activation='relu', input_shape=[11]),\n",
    "    layers.Dropout(0.3),\n",
    "    layers.BatchNormalization(),\n",
    "    layers.Dense(1024, activation='relu'),\n",
    "    layers.Dropout(0.3),\n",
    "    layers.BatchNormalization(),\n",
    "    layers.Dense(1024, activation='relu'),\n",
    "    layers.Dropout(0.3),\n",
    "    layers.BatchNormalization(),\n",
    "    layers.Dense(1),\n",
    "])"
   ]
  },
  {
   "cell_type": "markdown",
   "id": "e293f28e-09f8-4087-9a28-bfac2f65fb55",
   "metadata": {},
   "source": [
    "\n",
    "\n",
    "There's nothing to change this time in how we set up the training.\n"
   ]
  },
  {
   "cell_type": "code",
   "execution_count": 8,
   "id": "54e35cc1-9d7a-42ae-b0e9-265971524ba4",
   "metadata": {},
   "outputs": [
    {
     "data": {
      "image/png": "[encoded data removed]",
      "text/plain": [
       "<Figure size 640x480 with 1 Axes>"
      ]
     },
     "metadata": {},
     "output_type": "display_data"
    }
   ],
   "source": [
    "model.compile(\n",
    "    optimizer='adam',\n",
    "    loss='mae',\n",
    ")\n",
    "\n",
    "history = model.fit(\n",
    "    X_train, y_train,\n",
    "    validation_data=(X_valid, y_valid),\n",
    "    batch_size=256,\n",
    "    epochs=100,\n",
    "    verbose=0,\n",
    ")\n",
    "\n",
    "\n",
    "# Show the learning curves\n",
    "history_df = pd.DataFrame(history.history)\n",
    "history_df.loc[:, ['loss', 'val_loss']].plot();\n",
    "\n"
   ]
  },
  {
   "cell_type": "markdown",
   "id": "c9f500b2-5af7-4b6d-8b3b-223bb75632e4",
   "metadata": {},
   "source": [
    "You'll typically get better performance if you standardize your data before using it for training. That we were able to use the raw data at all, however, shows how effective batch normalization can be on more difficult datasets."
   ]
  }
 ],
 "metadata": {
  "kernelspec": {
   "display_name": "Python 3 (ipykernel)",
   "language": "python",
   "name": "python3"
  },
  "language_info": {
   "codemirror_mode": {
    "name": "ipython",
    "version": 3
   },
   "file_extension": ".py",
   "mimetype": "text/x-python",
   "name": "python",
   "nbconvert_exporter": "python",
   "pygments_lexer": "ipython3",
   "version": "3.10.12"
  }
 },
 "nbformat": 4,
 "nbformat_minor": 5
}
