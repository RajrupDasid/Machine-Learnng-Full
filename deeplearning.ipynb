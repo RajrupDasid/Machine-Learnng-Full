{
 "cells": [
  {
   "cell_type": "markdown",
   "id": "cac4c19d-d7d8-4c0c-9360-9dcfc883a3e8",
   "metadata": {},
   "source": [
    "# Welcome to Deep Learning!"
   ]
  },
  {
   "cell_type": "markdown",
   "id": "acc10c8e-f661-4861-987e-78f926e2574e",
   "metadata": {},
   "source": [
    "# A Single Neuron"
   ]
  },
  {
   "cell_type": "markdown",
   "id": "78c0564c-e7b7-4266-a84e-c610dd0f848b",
   "metadata": {},
   "source": [
    "Welcome to Kaggle's Introduction to Deep Learning course! You're about to learn all you need to get started building your own deep neural networks. Using Keras and Tensorflow you'll learn how to:\n",
    "\n",
    "    create a fully-connected neural network architecture\n",
    "    apply neural nets to two classic ML problems: regression and classification\n",
    "    train neural nets with stochastic gradient descent, and\n",
    "    improve performance with dropout, batch normalization, and other techniques\n",
    "\n",
    "The tutorials will introduce you to these topics with fully-worked examples, and then in the exercises, you'll explore these topics in more depth and apply them to real-world datasets.\n",
    "\n",
    "Let's get started!"
   ]
  },
  {
   "cell_type": "markdown",
   "id": "6c119e90-6d8a-44b8-bea5-d01bc92867a0",
   "metadata": {},
   "source": [
    "## What is Deep Learning?"
   ]
  },
  {
   "cell_type": "markdown",
   "id": "0943bfe1-404e-4c48-8ede-2bf2b5e782b6",
   "metadata": {},
   "source": [
    "Some of the most impressive advances in artificial intelligence in recent years have been in the field of deep learning. Natural language translation, image recognition, and game playing are all tasks where deep learning models have neared or even exceeded human-level performance.\n",
    "\n",
    "So what is deep learning? Deep learning is an approach to machine learning characterized by deep stacks of computations. This depth of computation is what has enabled deep learning models to disentangle the kinds of complex and hierarchical patterns found in the most challenging real-world datasets.\n",
    "\n",
    "Through their power and scalability neural networks have become the defining model of deep learning. Neural networks are composed of neurons, where each neuron individually performs only a simple computation. The power of a neural network comes instead from the complexity of the connections these neurons can form"
   ]
  },
  {
   "cell_type": "markdown",
   "id": "1d746856-e5c2-4d88-ad95-42d18582598f",
   "metadata": {},
   "source": [
    "# The Linear Unit"
   ]
  },
  {
   "cell_type": "markdown",
   "id": "dc9f5ef7-1076-47f7-ba6c-8a65301c2d30",
   "metadata": {},
   "source": [
    "So let's begin with the fundamental component of a neural network: the individual neuron. As a diagram, a neuron (or unit) with one input looks like:\n",
    "Diagram of a linear unit.\n",
    "<br>\n",
    "<br>\n",
    "<img src=\"./refimages/formula.png\" style=\"height:auto;width:auto;margin-left:680px\">\n",
    "<br>\n",
    "The Linear Unit: y=wx+b\n",
    "\n",
    "The input is x. Its connection to the neuron has a weight which is w. Whenever a value flows through a connection, you multiply the value by the connection's weight. For the input x, what reaches the neuron is w * x. A neural network \"learns\" by modifying its weights.\n",
    "\n",
    "The b is a special kind of weight we call the bias. The bias doesn't have any input data associated with it; instead, we put a 1 in the diagram so that the value that reaches the neuron is just b (since 1 * b = b). The bias enables the neuron to modify the output independently of its inputs.\n",
    "\n",
    "The y is the value the neuron ultimately outputs. To get the output, the neuron sums up all the values it receives through its connections. This neuron's activation is y = w * x + b, or as a formula y=wx+b\n",
    "\n",
    ".\n",
    "\n",
    "    Does the formula y=wx+b\n",
    "\n",
    "look familiar?\n",
    "It's an equation of a line! It's the slope-intercept equation, where w is the slope and b is the y-intercept. "
   ]
  },
  {
   "cell_type": "markdown",
   "id": "4a98b0b8-e724-4566-8c90-1c1c9c91c4dd",
   "metadata": {},
   "source": [
    "# Example - The Linear Unit as a Model"
   ]
  },
  {
   "cell_type": "markdown",
   "id": "601624ce-2000-468e-8fb7-cfd69a80ec49",
   "metadata": {},
   "source": [
    "Though individual neurons will usually only function as part of a larger network, it's often useful to start with a single neuron model as a baseline. Single neuron models are linear models.\n",
    "\n",
    "Let's think about how this might work on a dataset like 80 Cereals. Training a model with 'sugars' (grams of sugars per serving) as input and 'calories' (calories per serving) as output, we might find the bias is b=90 and the weight is w=2.5. We could estimate the calorie content of a cereal with 5 grams of sugar per serving like this:\n",
    "\n",
    "<img src=\"./refimages/liuam.png\" style=\"margin-left: 300px;height: auto;width: auto;\">\n",
    "<span style=\"margin-left:790px;\">Computing with the linear unit.</span>\n",
    "<br>\n",
    "And, checking against our formula, we have calories=2.5×5+90=102.5\n",
    ", just like we expect."
   ]
  },
  {
   "cell_type": "markdown",
   "id": "94a6d43b-c444-4a6d-a244-4384d7ca1ef3",
   "metadata": {},
   "source": [
    "# Multiple Inputs"
   ]
  },
  {
   "cell_type": "markdown",
   "id": "c3239101-ecc1-4024-b906-3a358861c034",
   "metadata": {},
   "source": [
    "The 80 Cereals dataset has many more features than just 'sugars'. What if we wanted to expand our model to include things like fiber or protein content? That's easy enough. We can just add more input connections to the neuron, one for each additional feature. To find the output, we would multiply each input to its connection weight and then add them all together.\n",
    "\n",
    "<img src='./refimages/MI.png' style=\"margin-left: 680px;height: auto;width: auto;\">\n",
    "<span style=\"margin-left:725px;\">A linear unit with three inputs.</span>\n",
    "\n",
    "The formula for this neuron would be y=w0x0+w1x1+w2x2+b\n",
    ". A linear unit with two inputs will fit a plane, and a unit with more inputs than that will fit a hyperplane."
   ]
  },
  {
   "cell_type": "markdown",
   "id": "a8027696-9705-4cdd-8c90-e08d3acbc539",
   "metadata": {},
   "source": [
    "# Linear Units in Keras"
   ]
  },
  {
   "cell_type": "markdown",
   "id": "f447ec89-10e2-49ba-a237-3af7a2cdbe2b",
   "metadata": {},
   "source": [
    "The easiest way to create a model in Keras is through keras.Sequential, which creates a neural network as a stack of layers. We can create models like those above using a dense layer (which we'll learn more about in the next lesson).\n",
    "\n",
    "We could define a linear model accepting three input features ('sugars', 'fiber', and 'protein') and producing a single output ('calories') like so:"
   ]
  },
  {
   "cell_type": "code",
   "execution_count": 5,
   "id": "cd85eb97-302b-4819-a052-d7da66605e06",
   "metadata": {},
   "outputs": [
    {
     "name": "stdout",
     "output_type": "stream",
     "text": [
      "<keras.src.engine.sequential.Sequential object at 0x7f0dc03751b0>\n",
      "<class 'keras.src.engine.sequential.Sequential'>\n"
     ]
    }
   ],
   "source": [
    "from tensorflow import keras\n",
    "from tensorflow.keras import layers\n",
    "\n",
    "# Create a network with 1 linear unit\n",
    "model = keras.Sequential([\n",
    "    layers.Dense(units=1, input_shape=[3])\n",
    "])\n",
    "print(model)\n",
    "print(type(model))"
   ]
  },
  {
   "cell_type": "markdown",
   "id": "8fd14321-7643-47d7-a934-2ee053e652d1",
   "metadata": {},
   "source": [
    "With the first argument, units, we define how many outputs we want. In this case we are just predicting 'calories', so we'll use units=1.\n",
    "\n",
    "With the second argument, input_shape, we tell Keras the dimensions of the inputs. Setting input_shape=[3] ensures the model will accept three features as input ('sugars', 'fiber', and 'protein').\n",
    "\n",
    "This model is now ready to be fit to training data!"
   ]
  },
  {
   "cell_type": "markdown",
   "id": "50a960f6-87bf-4872-a9da-da6f14bc2fa2",
   "metadata": {},
   "source": [
    "Why is input_shape a Python list?\n",
    "The data we'll use in this course will be tabular data, like in a Pandas dataframe. We'll have one input for each feature in the dataset. The features are arranged by column, so we'll always have input_shape=[num_columns]. The reason Keras uses a list here is to permit use of more complex datasets. Image data, for instance, might need three dimensions: [height, width, channels]. "
   ]
  },
  {
   "cell_type": "markdown",
   "id": "e6bcbe2c-cfe8-4f05-ae46-a7d1243437e3",
   "metadata": {},
   "source": [
    "## A single neuron Exercise"
   ]
  },
  {
   "cell_type": "markdown",
   "id": "7c6a2e40-25b7-4dcf-b5a2-479bc923ada6",
   "metadata": {},
   "source": [
    "### Introduction"
   ]
  },
  {
   "cell_type": "markdown",
   "id": "c4c7e7b5-511b-43eb-aecd-5ecc636c281a",
   "metadata": {},
   "source": [
    "In the tutorial we learned about the building blocks of neural networks: linear units. We saw that a model of just one linear unit will fit a linear function to a dataset (equivalent to linear regression). In this exercise, you'll build a linear model and get some practice working with models in Keras.\n",
    "\n",
    "Before you get started, run the code cell below to set everything up."
   ]
  },
  {
   "cell_type": "code",
   "execution_count": null,
   "id": "0099e477-e725-4255-9fc0-434f58a7ba28",
   "metadata": {},
   "outputs": [],
   "source": []
  }
 ],
 "metadata": {
  "kernelspec": {
   "display_name": "Python 3 (ipykernel)",
   "language": "python",
   "name": "python3"
  },
  "language_info": {
   "codemirror_mode": {
    "name": "ipython",
    "version": 3
   },
   "file_extension": ".py",
   "mimetype": "text/x-python",
   "name": "python",
   "nbconvert_exporter": "python",
   "pygments_lexer": "ipython3",
   "version": "3.10.6"
  }
 },
 "nbformat": 4,
 "nbformat_minor": 5
}
